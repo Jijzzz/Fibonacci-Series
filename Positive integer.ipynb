{
  "nbformat": 4,
  "nbformat_minor": 0,
  "metadata": {
    "colab": {
      "name": "Untitled5.ipynb",
      "provenance": [],
      "authorship_tag": "ABX9TyPGc0Og4fF8csj4bOmMo/eL",
      "include_colab_link": true
    },
    "kernelspec": {
      "name": "python3",
      "display_name": "Python 3"
    }
  },
  "cells": [
    {
      "cell_type": "markdown",
      "metadata": {
        "id": "view-in-github",
        "colab_type": "text"
      },
      "source": [
        "<a href=\"https://colab.research.google.com/github/Jijzzz/Fibonacci-Series.py/blob/master/Positive%20integer.ipynb\" target=\"_parent\"><img src=\"https://colab.research.google.com/assets/colab-badge.svg\" alt=\"Open In Colab\"/></a>"
      ]
    },
    {
      "cell_type": "code",
      "metadata": {
        "id": "QUU3SAf2x6b1",
        "colab_type": "code",
        "colab": {
          "base_uri": "https://localhost:8080/",
          "height": 121
        },
        "outputId": "7d0e1641-33a7-4b22-e9a7-d9d32d72b62a"
      },
      "source": [
        "numlist = []\n",
        "number = int(input(\"Enter the Limit: \"))\n",
        "for i in range(1,number +1):\n",
        "  value = int(input(\"%d element: \" %i))\n",
        "  numlist.append(value)\n",
        "\n",
        "print(\"Positive numbers in this list are : \")\n",
        "for j in range(number):\n",
        "  if(numlist[j]>=0):\n",
        "    print(numlist[j], end = ' ')"
      ],
      "execution_count": 4,
      "outputs": [
        {
          "output_type": "stream",
          "text": [
            "Enter the Limit: 3\n",
            "1 element: 1\n",
            "2 element: -2\n",
            "3 element: 0\n",
            "posirive numbers in this list are : \n",
            "1 0 "
          ],
          "name": "stdout"
        }
      ]
    }
  ]
}