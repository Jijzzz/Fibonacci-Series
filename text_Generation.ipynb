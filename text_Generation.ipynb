{
  "nbformat": 4,
  "nbformat_minor": 0,
  "metadata": {
    "colab": {
      "name": "text Gen.ipynb",
      "provenance": [],
      "authorship_tag": "ABX9TyMwT4fdXR/IyUAXyQqYRnEf",
      "include_colab_link": true
    },
    "kernelspec": {
      "name": "python3",
      "display_name": "Python 3"
    }
  },
  "cells": [
    {
      "cell_type": "markdown",
      "metadata": {
        "id": "view-in-github",
        "colab_type": "text"
      },
      "source": [
        "<a href=\"https://colab.research.google.com/github/Jijzzz/Mycaptain/blob/master/text_Generation.ipynb\" target=\"_parent\"><img src=\"https://colab.research.google.com/assets/colab-badge.svg\" alt=\"Open In Colab\"/></a>"
      ]
    },
    {
      "cell_type": "code",
      "metadata": {
        "id": "Ipx09DUxRqgN",
        "colab_type": "code",
        "colab": {
          "base_uri": "https://localhost:8080/",
          "height": 69
        },
        "outputId": "19e40cd8-9b34-4117-dd52-2f0bef05bb11"
      },
      "source": [
        "#Import Dependencies\n",
        "\n",
        "import numpy\n",
        "import sys\n",
        "import nltk\n",
        "nltk.download('stopwords')\n",
        "from nltk.tokenize import RegexpTokenizer\n",
        "from nltk.corpus import stopwords\n",
        "from keras.models import Sequential\n",
        "from keras.layers import Dense, Dropout, LSTM\n",
        "from keras.utils import np_utils\n",
        "from keras.callbacks import ModelCheckpoint"
      ],
      "execution_count": 2,
      "outputs": [
        {
          "output_type": "stream",
          "text": [
            "[nltk_data] Downloading package stopwords to /root/nltk_data...\n",
            "[nltk_data]   Package stopwords is already up-to-date!\n"
          ],
          "name": "stdout"
        },
        {
          "output_type": "stream",
          "text": [
            "Using TensorFlow backend.\n"
          ],
          "name": "stderr"
        }
      ]
    },
    {
      "cell_type": "code",
      "metadata": {
        "id": "1RDTTQxSa2dK",
        "colab_type": "code",
        "colab": {
          "base_uri": "https://localhost:8080/",
          "height": 35
        },
        "outputId": "94cd4412-c5b8-4130-c94f-139919a6412b"
      },
      "source": [
        "#Import gdrive \n",
        "\n",
        "from google.colab import drive\n",
        "drive.mount('/content/mydrive')"
      ],
      "execution_count": 3,
      "outputs": [
        {
          "output_type": "stream",
          "text": [
            "Drive already mounted at /content/mydrive; to attempt to forcibly remount, call drive.mount(\"/content/mydrive\", force_remount=True).\n"
          ],
          "name": "stdout"
        }
      ]
    },
    {
      "cell_type": "code",
      "metadata": {
        "id": "8-Zc2l646fdi",
        "colab_type": "code",
        "colab": {
          "base_uri": "https://localhost:8080/",
          "height": 1000
        },
        "outputId": "9b2617f3-4a12-4ec0-e769-c412d26bbaa4"
      },
      "source": [
        "#Load data\n",
        "\n",
        "file = open(\"/content/mydrive/My Drive/Frankenstein-2.txt\").read()\n",
        "print(file)"
      ],
      "execution_count": 4,
      "outputs": [
        {
          "output_type": "stream",
          "text": [
            "We were brought up together; there was not quite a year difference in\n",
            "our ages. I need not say that we were strangers to any species of\n",
            "disunion or dispute. Harmony was the soul of our companionship, and the\n",
            "diversity and contrast that subsisted in our characters drew us nearer\n",
            "together. Elizabeth was of a calmer and more concentrated disposition;\n",
            "but, with all my ardour, I was capable of a more intense application,\n",
            "and was more deeply smitten with the thirst for knowledge. She busied\n",
            "herself with following the aerial creations of the poets; and in the\n",
            "majestic and wondrous scenes which surrounded our Swiss home--the\n",
            "sublime shapes of the mountains; the changes of the seasons; tempest and\n",
            "calm; the silence of winter, and the life and turbulence of our Alpine\n",
            "summers,--she found ample scope for admiration and delight. While my\n",
            "companion contemplated with a serious and satisfied spirit the\n",
            "magnificent appearances of things, I delighted in investigating their\n",
            "causes. The world was to me a secret which I desired to divine.\n",
            "Curiosity, earnest research to learn the hidden laws of nature, gladness\n",
            "akin to rapture, as they were unfolded to me, are among the earliest\n",
            "sensations I can remember.\n",
            "\n",
            "On the birth of a second son, my junior by seven years, my parents gave\n",
            "up entirely their wandering life, and fixed themselves in their native\n",
            "country. We possessed a house in Geneva, and a _campagne_ on Belrive,\n",
            "the eastern shore of the lake, at the distance of rather more than a\n",
            "league from the city. We resided principally in the latter, and the\n",
            "lives of my parents were passed in considerable seclusion. It was my\n",
            "temper to avoid a crowd, and to attach myself fervently to a few. I was\n",
            "indifferent, therefore, to my schoolfellows in general; but I united\n",
            "myself in the bonds of the closest friendship to one among them. Henry\n",
            "Clerval was the son of a merchant of Geneva. He was a boy of singular\n",
            "talent and fancy. He loved enterprise, hardship, and even danger, for\n",
            "its own sake. He was deeply read in books of chivalry and romance. He\n",
            "composed heroic songs, and began to write many a tale of enchantment and\n",
            "knightly adventure. He tried to make us act plays, and to enter into\n",
            "masquerades, in which the characters were drawn from the heroes of\n",
            "Roncesvalles, of the Round Table of King Arthur, and the chivalrous\n",
            "train who shed their blood to redeem the holy sepulchre from the hands\n",
            "of the infidels.\n",
            "\n",
            "No human being could have passed a happier childhood than myself. My\n",
            "parents were possessed by the very spirit of kindness and indulgence. We\n",
            "felt that they were not the tyrants to rule our lot according to their\n",
            "caprice, but the agents and creators of all the many delights which we\n",
            "enjoyed. When I mingled with other families, I distinctly discerned how\n",
            "peculiarly fortunate my lot was, and gratitude assisted the developement\n",
            "of filial love.\n",
            "\n",
            "My temper was sometimes violent, and my passions vehement; but by some\n",
            "law in my temperature they were turned, not towards childish pursuits,\n",
            "but to an eager desire to learn, and not to learn all things\n",
            "indiscriminately. I confess that neither the structure of languages, nor\n",
            "the code of governments, nor the politics of various states, possessed\n",
            "attractions for me. It was the secrets of heaven and earth that I\n",
            "desired to learn; and whether it was the outward substance of things, or\n",
            "the inner spirit of nature and the mysterious soul of man that occupied\n",
            "me, still my enquiries were directed to the metaphysical, or, in its\n",
            "highest sense, the physical secrets of the world.\n",
            "\n",
            "Meanwhile Clerval occupied himself, so to speak, with the moral\n",
            "relations of things. The busy stage of life, the virtues of heroes, and\n",
            "the actions of men, were his theme; and his hope and his dream was to\n",
            "become one among those whose names are recorded in story, as the\n",
            "gallant and adventurous benefactors of our species. The saintly soul of\n",
            "Elizabeth shone like a shrine-dedicated lamp in our peaceful home. Her\n",
            "sympathy was ours; her smile, her soft voice, the sweet glance of her\n",
            "celestial eyes, were ever there to bless and animate us. She was the\n",
            "living spirit of love to soften and attract: I might have become sullen\n",
            "in my study, rough through the ardour of my nature, but that she was\n",
            "there to subdue me to a semblance of her own gentleness. And\n",
            "Clerval--could aught ill entrench on the noble spirit of Clerval?--yet\n",
            "he might not have been so perfectly humane, so thoughtful in his\n",
            "generosity--so full of kindness and tenderness amidst his passion for\n",
            "adventurous exploit, had she not unfolded to him the real loveliness of\n",
            "beneficence, and made the doing good the end and aim of his soaring\n",
            "ambition.\n",
            "\n",
            "I feel exquisite pleasure in dwelling on the recollections of childhood,\n",
            "before misfortune had tainted my mind, and changed its bright visions of\n",
            "extensive usefulness into gloomy and narrow reflections upon self.\n",
            "Besides, in drawing the picture of my early days, I also record those\n",
            "events which led, by insensible steps, to my after tale of misery: for\n",
            "when I would account to myself for the birth of that passion, which\n",
            "afterwards ruled my destiny, I find it arise, like a mountain river,\n",
            "from ignoble and almost forgotten sources; but, swelling as it\n",
            "proceeded, it became the torrent which, in its course, has swept away\n",
            "all my hopes and joys.\n",
            "\n",
            "Natural philosophy is the genius that has regulated my fate; I desire,\n",
            "therefore, in this narration, to state those facts which led to my\n",
            "predilection for that science. When I was thirteen years of age, we all\n",
            "went on a party of pleasure to the baths near Thonon: the inclemency of\n",
            "the weather obliged us to remain a day confined to the inn. In this\n",
            "house I chanced to find a volume of the works of Cornelius Agrippa. I\n",
            "opened it with apathy; the theory which he attempts to demonstrate, and\n",
            "the wonderful facts which he relates, soon changed this feeling into\n",
            "enthusiasm. A new light seemed to dawn upon my mind; and, bounding with\n",
            "joy, I communicated my discovery to my father. My father looked\n",
            "carelessly at the titlepage of my book, and said, \"Ah! Cornelius\n",
            "Agrippa! My dear Victor, do not waste your time upon this; it is sad\n",
            "trash.\"\n",
            "\n",
            "If, instead of this remark, my father had taken the pains to explain to\n",
            "me, that the principles of Agrippa had been entirely exploded, and that\n",
            "a modern system of science had been introduced, which possessed much\n",
            "greater powers than the ancient, because the powers of the latter were\n",
            "chimerical, while those of the former were real and practical; under\n",
            "such circumstances, I should certainly have thrown Agrippa aside, and\n",
            "have contented my imagination, warmed as it was, by returning with\n",
            "greater ardour to my former studies. It is even possible, that the train\n",
            "of my ideas would never have received the fatal impulse that led to my\n",
            "ruin. But the cursory glance my father had taken of my volume by no\n",
            "means assured me that he was acquainted with its contents; and I\n",
            "continued to read with the greatest avidity.\n",
            "\n",
            "When I returned home, my first care was to procure the whole works of\n",
            "this author, and afterwards of Paracelsus and Albertus Magnus. I read\n",
            "and studied the wild fancies of these writers with delight; they\n",
            "appeared to me treasures known to few beside myself. I have described\n",
            "myself as always having been embued with a fervent longing to penetrate\n",
            "the secrets of nature. In spite of the intense labour and wonderful\n",
            "discoveries of modern philosophers, I always came from my studies\n",
            "discontented and unsatisfied. Sir Isaac Newton is said to have avowed\n",
            "that he felt like a child picking up shells beside the great and\n",
            "unexplored ocean of truth. Those of his successors in each branch of\n",
            "natural philosophy with whom I was acquainted, appeared even to my boy's\n",
            "apprehensions, as tyros engaged in the same pursuit.\n",
            "\n",
            "The untaught peasant beheld the elements around him, and was acquainted\n",
            "with their practical uses. The most learned philosopher knew little\n",
            "more. He had partially unveiled the face of Nature, but her immortal\n",
            "lineaments were still a wonder and a mystery. He might dissect,\n",
            "anatomise, and give names; but, not to speak of a final cause, causes in\n",
            "their secondary and tertiary grades were utterly unknown to him. I had\n",
            "gazed upon the fortifications and impediments that seemed to keep human\n",
            "beings from entering the citadel of nature, and rashly and ignorantly I\n",
            "had repined.\n",
            "\n",
            "But here were books, and here were men who had penetrated deeper and\n",
            "knew more. I took their word for all that they averred, and I became\n",
            "their disciple. It may appear strange that such should arise in the\n",
            "eighteenth century; but while I followed the routine of education in the\n",
            "schools of Geneva, I was, to a great degree, self taught with regard to\n",
            "my favourite studies. My father was not scientific, and I was left to\n",
            "struggle with a child's blindness, added to a student's thirst for\n",
            "knowledge. Under the guidance of my new preceptors, I entered with the\n",
            "greatest diligence into the search of the philosopher's stone and the\n",
            "elixir of life; but the latter soon obtained my undivided attention.\n",
            "Wealth was an inferior object; but what glory would attend the\n",
            "discovery, if I could banish disease from the human frame, and render\n",
            "man invulnerable to any but a violent death!\n",
            "\n",
            "Nor were these my only visions. The raising of ghosts or devils was a\n",
            "promise liberally accorded by my favourite authors, the fulfilment of\n",
            "which I most eagerly sought; and if my incantations were always\n",
            "unsuccessful, I attributed the failure rather to my own inexperience and\n",
            "mistake, than to a want of skill or fidelity in my instructors. And thus\n",
            "for a time I was occupied by exploded systems, mingling, like an\n",
            "unadept, a thousand contradictory theories, and floundering desperately\n",
            "in a very slough of multifarious knowledge, guided by an ardent\n",
            "imagination and childish reasoning, till an accident again changed the\n",
            "current of my ideas.\n",
            "\n",
            "When I was about fifteen years old we had retired to our house near\n",
            "Belrive, when we witnessed a most violent and terrible thunder-storm. It\n",
            "advanced from behind the mountains of Jura; and the thunder burst at\n",
            "once with frightful loudness from various quarters of the heavens. I\n",
            "remained, while the storm lasted, watching its progress with curiosity\n",
            "and delight. As I stood at the door, on a sudden I beheld a stream of\n",
            "fire issue from an old and beautiful oak, which stood about twenty yards\n",
            "from our house; and so soon as the dazzling light vanished, the oak had\n",
            "disappeared, and nothing remained but a blasted stump. When we visited\n",
            "it the next morning, we found the tree shattered in a singular manner.\n",
            "It was not splintered by the shock, but entirely reduced to thin ribands\n",
            "of wood. I never beheld any thing so utterly destroyed.\n",
            "\n",
            "Before this I was not unacquainted with the more obvious laws of\n",
            "electricity. On this occasion a man of great research in natural\n",
            "philosophy was with us, and, excited by this catastrophe, he entered on\n",
            "the explanation of a theory which he had formed on the subject of\n",
            "electricity and galvanism, which was at once new and astonishing to me.\n",
            "All that he said threw greatly into the shade Cornelius Agrippa,\n",
            "Albertus Magnus, and Paracelsus, the lords of my imagination; but by\n",
            "some fatality the overthrow of these men disinclined me to pursue my\n",
            "accustomed studies. It seemed to me as if nothing would or could ever be\n",
            "known. All that had so long engaged my attention suddenly grew\n",
            "despicable. By one of those caprices of the mind, which we are perhaps\n",
            "most subject to in early youth, I at once gave up my former occupations;\n",
            "set down natural history and all its progeny as a deformed and abortive\n",
            "creation; and entertained the greatest disdain for a would-be science,\n",
            "which could never even step within the threshold of real knowledge. In\n",
            "this mood of mind I betook myself to the mathematics, and the branches\n",
            "of study appertaining to that science, as being built upon secure\n",
            "foundations, and so worthy of my consideration.\n",
            "\n",
            "Thus strangely are our souls constructed, and by such slight ligaments\n",
            "are we bound to prosperity or ruin. When I look back, it seems to me as\n",
            "if this almost miraculous change of inclination and will was the\n",
            "immediate suggestion of the guardian angel of my life--the last effort\n",
            "made by the spirit of preservation to avert the storm that was even then\n",
            "hanging in the stars, and ready to envelope me. Her victory was\n",
            "announced by an unusual tranquillity and gladness of soul, which\n",
            "followed the relinquishing of my ancient and latterly tormenting\n",
            "studies. It was thus that I was to be taught to associate evil with\n",
            "their prosecution, happiness with their disregard.\n",
            "\n",
            "It was a strong effort of the spirit of good; but it was ineffectual.\n",
            "Destiny was too potent, and her immutable laws had decreed my utter and\n",
            "terrible destruction.\n"
          ],
          "name": "stdout"
        }
      ]
    },
    {
      "cell_type": "code",
      "metadata": {
        "id": "4GQr_ulV-SKA",
        "colab_type": "code",
        "colab": {
          "base_uri": "https://localhost:8080/",
          "height": 72
        },
        "outputId": "f61dfae2-a1f7-4166-a7c1-b494d4721491"
      },
      "source": [
        "#Tokenization\n",
        "#Standardization\n",
        "\n",
        "def tokenize_words(input):\n",
        "  global file\n",
        "  input = input.lower()\n",
        "  tokenizer = RegexpTokenizer(r'\\w+')\n",
        "  tokens = tokenizer.tokenize(input)\n",
        "  print(tokens)\n",
        "  filtered = list(filter(lambda token: token not in stopwords.words('english'), tokens))\n",
        "  print(filtered)\n",
        "  return \"\".join(filtered)\n",
        "\n",
        "  \n",
        "processed_inputs = tokenize_words(file)"
      ],
      "execution_count": 5,
      "outputs": [
        {
          "output_type": "stream",
          "text": [
            "['we', 'were', 'brought', 'up', 'together', 'there', 'was', 'not', 'quite', 'a', 'year', 'difference', 'in', 'our', 'ages', 'i', 'need', 'not', 'say', 'that', 'we', 'were', 'strangers', 'to', 'any', 'species', 'of', 'disunion', 'or', 'dispute', 'harmony', 'was', 'the', 'soul', 'of', 'our', 'companionship', 'and', 'the', 'diversity', 'and', 'contrast', 'that', 'subsisted', 'in', 'our', 'characters', 'drew', 'us', 'nearer', 'together', 'elizabeth', 'was', 'of', 'a', 'calmer', 'and', 'more', 'concentrated', 'disposition', 'but', 'with', 'all', 'my', 'ardour', 'i', 'was', 'capable', 'of', 'a', 'more', 'intense', 'application', 'and', 'was', 'more', 'deeply', 'smitten', 'with', 'the', 'thirst', 'for', 'knowledge', 'she', 'busied', 'herself', 'with', 'following', 'the', 'aerial', 'creations', 'of', 'the', 'poets', 'and', 'in', 'the', 'majestic', 'and', 'wondrous', 'scenes', 'which', 'surrounded', 'our', 'swiss', 'home', 'the', 'sublime', 'shapes', 'of', 'the', 'mountains', 'the', 'changes', 'of', 'the', 'seasons', 'tempest', 'and', 'calm', 'the', 'silence', 'of', 'winter', 'and', 'the', 'life', 'and', 'turbulence', 'of', 'our', 'alpine', 'summers', 'she', 'found', 'ample', 'scope', 'for', 'admiration', 'and', 'delight', 'while', 'my', 'companion', 'contemplated', 'with', 'a', 'serious', 'and', 'satisfied', 'spirit', 'the', 'magnificent', 'appearances', 'of', 'things', 'i', 'delighted', 'in', 'investigating', 'their', 'causes', 'the', 'world', 'was', 'to', 'me', 'a', 'secret', 'which', 'i', 'desired', 'to', 'divine', 'curiosity', 'earnest', 'research', 'to', 'learn', 'the', 'hidden', 'laws', 'of', 'nature', 'gladness', 'akin', 'to', 'rapture', 'as', 'they', 'were', 'unfolded', 'to', 'me', 'are', 'among', 'the', 'earliest', 'sensations', 'i', 'can', 'remember', 'on', 'the', 'birth', 'of', 'a', 'second', 'son', 'my', 'junior', 'by', 'seven', 'years', 'my', 'parents', 'gave', 'up', 'entirely', 'their', 'wandering', 'life', 'and', 'fixed', 'themselves', 'in', 'their', 'native', 'country', 'we', 'possessed', 'a', 'house', 'in', 'geneva', 'and', 'a', '_campagne_', 'on', 'belrive', 'the', 'eastern', 'shore', 'of', 'the', 'lake', 'at', 'the', 'distance', 'of', 'rather', 'more', 'than', 'a', 'league', 'from', 'the', 'city', 'we', 'resided', 'principally', 'in', 'the', 'latter', 'and', 'the', 'lives', 'of', 'my', 'parents', 'were', 'passed', 'in', 'considerable', 'seclusion', 'it', 'was', 'my', 'temper', 'to', 'avoid', 'a', 'crowd', 'and', 'to', 'attach', 'myself', 'fervently', 'to', 'a', 'few', 'i', 'was', 'indifferent', 'therefore', 'to', 'my', 'schoolfellows', 'in', 'general', 'but', 'i', 'united', 'myself', 'in', 'the', 'bonds', 'of', 'the', 'closest', 'friendship', 'to', 'one', 'among', 'them', 'henry', 'clerval', 'was', 'the', 'son', 'of', 'a', 'merchant', 'of', 'geneva', 'he', 'was', 'a', 'boy', 'of', 'singular', 'talent', 'and', 'fancy', 'he', 'loved', 'enterprise', 'hardship', 'and', 'even', 'danger', 'for', 'its', 'own', 'sake', 'he', 'was', 'deeply', 'read', 'in', 'books', 'of', 'chivalry', 'and', 'romance', 'he', 'composed', 'heroic', 'songs', 'and', 'began', 'to', 'write', 'many', 'a', 'tale', 'of', 'enchantment', 'and', 'knightly', 'adventure', 'he', 'tried', 'to', 'make', 'us', 'act', 'plays', 'and', 'to', 'enter', 'into', 'masquerades', 'in', 'which', 'the', 'characters', 'were', 'drawn', 'from', 'the', 'heroes', 'of', 'roncesvalles', 'of', 'the', 'round', 'table', 'of', 'king', 'arthur', 'and', 'the', 'chivalrous', 'train', 'who', 'shed', 'their', 'blood', 'to', 'redeem', 'the', 'holy', 'sepulchre', 'from', 'the', 'hands', 'of', 'the', 'infidels', 'no', 'human', 'being', 'could', 'have', 'passed', 'a', 'happier', 'childhood', 'than', 'myself', 'my', 'parents', 'were', 'possessed', 'by', 'the', 'very', 'spirit', 'of', 'kindness', 'and', 'indulgence', 'we', 'felt', 'that', 'they', 'were', 'not', 'the', 'tyrants', 'to', 'rule', 'our', 'lot', 'according', 'to', 'their', 'caprice', 'but', 'the', 'agents', 'and', 'creators', 'of', 'all', 'the', 'many', 'delights', 'which', 'we', 'enjoyed', 'when', 'i', 'mingled', 'with', 'other', 'families', 'i', 'distinctly', 'discerned', 'how', 'peculiarly', 'fortunate', 'my', 'lot', 'was', 'and', 'gratitude', 'assisted', 'the', 'developement', 'of', 'filial', 'love', 'my', 'temper', 'was', 'sometimes', 'violent', 'and', 'my', 'passions', 'vehement', 'but', 'by', 'some', 'law', 'in', 'my', 'temperature', 'they', 'were', 'turned', 'not', 'towards', 'childish', 'pursuits', 'but', 'to', 'an', 'eager', 'desire', 'to', 'learn', 'and', 'not', 'to', 'learn', 'all', 'things', 'indiscriminately', 'i', 'confess', 'that', 'neither', 'the', 'structure', 'of', 'languages', 'nor', 'the', 'code', 'of', 'governments', 'nor', 'the', 'politics', 'of', 'various', 'states', 'possessed', 'attractions', 'for', 'me', 'it', 'was', 'the', 'secrets', 'of', 'heaven', 'and', 'earth', 'that', 'i', 'desired', 'to', 'learn', 'and', 'whether', 'it', 'was', 'the', 'outward', 'substance', 'of', 'things', 'or', 'the', 'inner', 'spirit', 'of', 'nature', 'and', 'the', 'mysterious', 'soul', 'of', 'man', 'that', 'occupied', 'me', 'still', 'my', 'enquiries', 'were', 'directed', 'to', 'the', 'metaphysical', 'or', 'in', 'its', 'highest', 'sense', 'the', 'physical', 'secrets', 'of', 'the', 'world', 'meanwhile', 'clerval', 'occupied', 'himself', 'so', 'to', 'speak', 'with', 'the', 'moral', 'relations', 'of', 'things', 'the', 'busy', 'stage', 'of', 'life', 'the', 'virtues', 'of', 'heroes', 'and', 'the', 'actions', 'of', 'men', 'were', 'his', 'theme', 'and', 'his', 'hope', 'and', 'his', 'dream', 'was', 'to', 'become', 'one', 'among', 'those', 'whose', 'names', 'are', 'recorded', 'in', 'story', 'as', 'the', 'gallant', 'and', 'adventurous', 'benefactors', 'of', 'our', 'species', 'the', 'saintly', 'soul', 'of', 'elizabeth', 'shone', 'like', 'a', 'shrine', 'dedicated', 'lamp', 'in', 'our', 'peaceful', 'home', 'her', 'sympathy', 'was', 'ours', 'her', 'smile', 'her', 'soft', 'voice', 'the', 'sweet', 'glance', 'of', 'her', 'celestial', 'eyes', 'were', 'ever', 'there', 'to', 'bless', 'and', 'animate', 'us', 'she', 'was', 'the', 'living', 'spirit', 'of', 'love', 'to', 'soften', 'and', 'attract', 'i', 'might', 'have', 'become', 'sullen', 'in', 'my', 'study', 'rough', 'through', 'the', 'ardour', 'of', 'my', 'nature', 'but', 'that', 'she', 'was', 'there', 'to', 'subdue', 'me', 'to', 'a', 'semblance', 'of', 'her', 'own', 'gentleness', 'and', 'clerval', 'could', 'aught', 'ill', 'entrench', 'on', 'the', 'noble', 'spirit', 'of', 'clerval', 'yet', 'he', 'might', 'not', 'have', 'been', 'so', 'perfectly', 'humane', 'so', 'thoughtful', 'in', 'his', 'generosity', 'so', 'full', 'of', 'kindness', 'and', 'tenderness', 'amidst', 'his', 'passion', 'for', 'adventurous', 'exploit', 'had', 'she', 'not', 'unfolded', 'to', 'him', 'the', 'real', 'loveliness', 'of', 'beneficence', 'and', 'made', 'the', 'doing', 'good', 'the', 'end', 'and', 'aim', 'of', 'his', 'soaring', 'ambition', 'i', 'feel', 'exquisite', 'pleasure', 'in', 'dwelling', 'on', 'the', 'recollections', 'of', 'childhood', 'before', 'misfortune', 'had', 'tainted', 'my', 'mind', 'and', 'changed', 'its', 'bright', 'visions', 'of', 'extensive', 'usefulness', 'into', 'gloomy', 'and', 'narrow', 'reflections', 'upon', 'self', 'besides', 'in', 'drawing', 'the', 'picture', 'of', 'my', 'early', 'days', 'i', 'also', 'record', 'those', 'events', 'which', 'led', 'by', 'insensible', 'steps', 'to', 'my', 'after', 'tale', 'of', 'misery', 'for', 'when', 'i', 'would', 'account', 'to', 'myself', 'for', 'the', 'birth', 'of', 'that', 'passion', 'which', 'afterwards', 'ruled', 'my', 'destiny', 'i', 'find', 'it', 'arise', 'like', 'a', 'mountain', 'river', 'from', 'ignoble', 'and', 'almost', 'forgotten', 'sources', 'but', 'swelling', 'as', 'it', 'proceeded', 'it', 'became', 'the', 'torrent', 'which', 'in', 'its', 'course', 'has', 'swept', 'away', 'all', 'my', 'hopes', 'and', 'joys', 'natural', 'philosophy', 'is', 'the', 'genius', 'that', 'has', 'regulated', 'my', 'fate', 'i', 'desire', 'therefore', 'in', 'this', 'narration', 'to', 'state', 'those', 'facts', 'which', 'led', 'to', 'my', 'predilection', 'for', 'that', 'science', 'when', 'i', 'was', 'thirteen', 'years', 'of', 'age', 'we', 'all', 'went', 'on', 'a', 'party', 'of', 'pleasure', 'to', 'the', 'baths', 'near', 'thonon', 'the', 'inclemency', 'of', 'the', 'weather', 'obliged', 'us', 'to', 'remain', 'a', 'day', 'confined', 'to', 'the', 'inn', 'in', 'this', 'house', 'i', 'chanced', 'to', 'find', 'a', 'volume', 'of', 'the', 'works', 'of', 'cornelius', 'agrippa', 'i', 'opened', 'it', 'with', 'apathy', 'the', 'theory', 'which', 'he', 'attempts', 'to', 'demonstrate', 'and', 'the', 'wonderful', 'facts', 'which', 'he', 'relates', 'soon', 'changed', 'this', 'feeling', 'into', 'enthusiasm', 'a', 'new', 'light', 'seemed', 'to', 'dawn', 'upon', 'my', 'mind', 'and', 'bounding', 'with', 'joy', 'i', 'communicated', 'my', 'discovery', 'to', 'my', 'father', 'my', 'father', 'looked', 'carelessly', 'at', 'the', 'titlepage', 'of', 'my', 'book', 'and', 'said', 'ah', 'cornelius', 'agrippa', 'my', 'dear', 'victor', 'do', 'not', 'waste', 'your', 'time', 'upon', 'this', 'it', 'is', 'sad', 'trash', 'if', 'instead', 'of', 'this', 'remark', 'my', 'father', 'had', 'taken', 'the', 'pains', 'to', 'explain', 'to', 'me', 'that', 'the', 'principles', 'of', 'agrippa', 'had', 'been', 'entirely', 'exploded', 'and', 'that', 'a', 'modern', 'system', 'of', 'science', 'had', 'been', 'introduced', 'which', 'possessed', 'much', 'greater', 'powers', 'than', 'the', 'ancient', 'because', 'the', 'powers', 'of', 'the', 'latter', 'were', 'chimerical', 'while', 'those', 'of', 'the', 'former', 'were', 'real', 'and', 'practical', 'under', 'such', 'circumstances', 'i', 'should', 'certainly', 'have', 'thrown', 'agrippa', 'aside', 'and', 'have', 'contented', 'my', 'imagination', 'warmed', 'as', 'it', 'was', 'by', 'returning', 'with', 'greater', 'ardour', 'to', 'my', 'former', 'studies', 'it', 'is', 'even', 'possible', 'that', 'the', 'train', 'of', 'my', 'ideas', 'would', 'never', 'have', 'received', 'the', 'fatal', 'impulse', 'that', 'led', 'to', 'my', 'ruin', 'but', 'the', 'cursory', 'glance', 'my', 'father', 'had', 'taken', 'of', 'my', 'volume', 'by', 'no', 'means', 'assured', 'me', 'that', 'he', 'was', 'acquainted', 'with', 'its', 'contents', 'and', 'i', 'continued', 'to', 'read', 'with', 'the', 'greatest', 'avidity', 'when', 'i', 'returned', 'home', 'my', 'first', 'care', 'was', 'to', 'procure', 'the', 'whole', 'works', 'of', 'this', 'author', 'and', 'afterwards', 'of', 'paracelsus', 'and', 'albertus', 'magnus', 'i', 'read', 'and', 'studied', 'the', 'wild', 'fancies', 'of', 'these', 'writers', 'with', 'delight', 'they', 'appeared', 'to', 'me', 'treasures', 'known', 'to', 'few', 'beside', 'myself', 'i', 'have', 'described', 'myself', 'as', 'always', 'having', 'been', 'embued', 'with', 'a', 'fervent', 'longing', 'to', 'penetrate', 'the', 'secrets', 'of', 'nature', 'in', 'spite', 'of', 'the', 'intense', 'labour', 'and', 'wonderful', 'discoveries', 'of', 'modern', 'philosophers', 'i', 'always', 'came', 'from', 'my', 'studies', 'discontented', 'and', 'unsatisfied', 'sir', 'isaac', 'newton', 'is', 'said', 'to', 'have', 'avowed', 'that', 'he', 'felt', 'like', 'a', 'child', 'picking', 'up', 'shells', 'beside', 'the', 'great', 'and', 'unexplored', 'ocean', 'of', 'truth', 'those', 'of', 'his', 'successors', 'in', 'each', 'branch', 'of', 'natural', 'philosophy', 'with', 'whom', 'i', 'was', 'acquainted', 'appeared', 'even', 'to', 'my', 'boy', 's', 'apprehensions', 'as', 'tyros', 'engaged', 'in', 'the', 'same', 'pursuit', 'the', 'untaught', 'peasant', 'beheld', 'the', 'elements', 'around', 'him', 'and', 'was', 'acquainted', 'with', 'their', 'practical', 'uses', 'the', 'most', 'learned', 'philosopher', 'knew', 'little', 'more', 'he', 'had', 'partially', 'unveiled', 'the', 'face', 'of', 'nature', 'but', 'her', 'immortal', 'lineaments', 'were', 'still', 'a', 'wonder', 'and', 'a', 'mystery', 'he', 'might', 'dissect', 'anatomise', 'and', 'give', 'names', 'but', 'not', 'to', 'speak', 'of', 'a', 'final', 'cause', 'causes', 'in', 'their', 'secondary', 'and', 'tertiary', 'grades', 'were', 'utterly', 'unknown', 'to', 'him', 'i', 'had', 'gazed', 'upon', 'the', 'fortifications', 'and', 'impediments', 'that', 'seemed', 'to', 'keep', 'human', 'beings', 'from', 'entering', 'the', 'citadel', 'of', 'nature', 'and', 'rashly', 'and', 'ignorantly', 'i', 'had', 'repined', 'but', 'here', 'were', 'books', 'and', 'here', 'were', 'men', 'who', 'had', 'penetrated', 'deeper', 'and', 'knew', 'more', 'i', 'took', 'their', 'word', 'for', 'all', 'that', 'they', 'averred', 'and', 'i', 'became', 'their', 'disciple', 'it', 'may', 'appear', 'strange', 'that', 'such', 'should', 'arise', 'in', 'the', 'eighteenth', 'century', 'but', 'while', 'i', 'followed', 'the', 'routine', 'of', 'education', 'in', 'the', 'schools', 'of', 'geneva', 'i', 'was', 'to', 'a', 'great', 'degree', 'self', 'taught', 'with', 'regard', 'to', 'my', 'favourite', 'studies', 'my', 'father', 'was', 'not', 'scientific', 'and', 'i', 'was', 'left', 'to', 'struggle', 'with', 'a', 'child', 's', 'blindness', 'added', 'to', 'a', 'student', 's', 'thirst', 'for', 'knowledge', 'under', 'the', 'guidance', 'of', 'my', 'new', 'preceptors', 'i', 'entered', 'with', 'the', 'greatest', 'diligence', 'into', 'the', 'search', 'of', 'the', 'philosopher', 's', 'stone', 'and', 'the', 'elixir', 'of', 'life', 'but', 'the', 'latter', 'soon', 'obtained', 'my', 'undivided', 'attention', 'wealth', 'was', 'an', 'inferior', 'object', 'but', 'what', 'glory', 'would', 'attend', 'the', 'discovery', 'if', 'i', 'could', 'banish', 'disease', 'from', 'the', 'human', 'frame', 'and', 'render', 'man', 'invulnerable', 'to', 'any', 'but', 'a', 'violent', 'death', 'nor', 'were', 'these', 'my', 'only', 'visions', 'the', 'raising', 'of', 'ghosts', 'or', 'devils', 'was', 'a', 'promise', 'liberally', 'accorded', 'by', 'my', 'favourite', 'authors', 'the', 'fulfilment', 'of', 'which', 'i', 'most', 'eagerly', 'sought', 'and', 'if', 'my', 'incantations', 'were', 'always', 'unsuccessful', 'i', 'attributed', 'the', 'failure', 'rather', 'to', 'my', 'own', 'inexperience', 'and', 'mistake', 'than', 'to', 'a', 'want', 'of', 'skill', 'or', 'fidelity', 'in', 'my', 'instructors', 'and', 'thus', 'for', 'a', 'time', 'i', 'was', 'occupied', 'by', 'exploded', 'systems', 'mingling', 'like', 'an', 'unadept', 'a', 'thousand', 'contradictory', 'theories', 'and', 'floundering', 'desperately', 'in', 'a', 'very', 'slough', 'of', 'multifarious', 'knowledge', 'guided', 'by', 'an', 'ardent', 'imagination', 'and', 'childish', 'reasoning', 'till', 'an', 'accident', 'again', 'changed', 'the', 'current', 'of', 'my', 'ideas', 'when', 'i', 'was', 'about', 'fifteen', 'years', 'old', 'we', 'had', 'retired', 'to', 'our', 'house', 'near', 'belrive', 'when', 'we', 'witnessed', 'a', 'most', 'violent', 'and', 'terrible', 'thunder', 'storm', 'it', 'advanced', 'from', 'behind', 'the', 'mountains', 'of', 'jura', 'and', 'the', 'thunder', 'burst', 'at', 'once', 'with', 'frightful', 'loudness', 'from', 'various', 'quarters', 'of', 'the', 'heavens', 'i', 'remained', 'while', 'the', 'storm', 'lasted', 'watching', 'its', 'progress', 'with', 'curiosity', 'and', 'delight', 'as', 'i', 'stood', 'at', 'the', 'door', 'on', 'a', 'sudden', 'i', 'beheld', 'a', 'stream', 'of', 'fire', 'issue', 'from', 'an', 'old', 'and', 'beautiful', 'oak', 'which', 'stood', 'about', 'twenty', 'yards', 'from', 'our', 'house', 'and', 'so', 'soon', 'as', 'the', 'dazzling', 'light', 'vanished', 'the', 'oak', 'had', 'disappeared', 'and', 'nothing', 'remained', 'but', 'a', 'blasted', 'stump', 'when', 'we', 'visited', 'it', 'the', 'next', 'morning', 'we', 'found', 'the', 'tree', 'shattered', 'in', 'a', 'singular', 'manner', 'it', 'was', 'not', 'splintered', 'by', 'the', 'shock', 'but', 'entirely', 'reduced', 'to', 'thin', 'ribands', 'of', 'wood', 'i', 'never', 'beheld', 'any', 'thing', 'so', 'utterly', 'destroyed', 'before', 'this', 'i', 'was', 'not', 'unacquainted', 'with', 'the', 'more', 'obvious', 'laws', 'of', 'electricity', 'on', 'this', 'occasion', 'a', 'man', 'of', 'great', 'research', 'in', 'natural', 'philosophy', 'was', 'with', 'us', 'and', 'excited', 'by', 'this', 'catastrophe', 'he', 'entered', 'on', 'the', 'explanation', 'of', 'a', 'theory', 'which', 'he', 'had', 'formed', 'on', 'the', 'subject', 'of', 'electricity', 'and', 'galvanism', 'which', 'was', 'at', 'once', 'new', 'and', 'astonishing', 'to', 'me', 'all', 'that', 'he', 'said', 'threw', 'greatly', 'into', 'the', 'shade', 'cornelius', 'agrippa', 'albertus', 'magnus', 'and', 'paracelsus', 'the', 'lords', 'of', 'my', 'imagination', 'but', 'by', 'some', 'fatality', 'the', 'overthrow', 'of', 'these', 'men', 'disinclined', 'me', 'to', 'pursue', 'my', 'accustomed', 'studies', 'it', 'seemed', 'to', 'me', 'as', 'if', 'nothing', 'would', 'or', 'could', 'ever', 'be', 'known', 'all', 'that', 'had', 'so', 'long', 'engaged', 'my', 'attention', 'suddenly', 'grew', 'despicable', 'by', 'one', 'of', 'those', 'caprices', 'of', 'the', 'mind', 'which', 'we', 'are', 'perhaps', 'most', 'subject', 'to', 'in', 'early', 'youth', 'i', 'at', 'once', 'gave', 'up', 'my', 'former', 'occupations', 'set', 'down', 'natural', 'history', 'and', 'all', 'its', 'progeny', 'as', 'a', 'deformed', 'and', 'abortive', 'creation', 'and', 'entertained', 'the', 'greatest', 'disdain', 'for', 'a', 'would', 'be', 'science', 'which', 'could', 'never', 'even', 'step', 'within', 'the', 'threshold', 'of', 'real', 'knowledge', 'in', 'this', 'mood', 'of', 'mind', 'i', 'betook', 'myself', 'to', 'the', 'mathematics', 'and', 'the', 'branches', 'of', 'study', 'appertaining', 'to', 'that', 'science', 'as', 'being', 'built', 'upon', 'secure', 'foundations', 'and', 'so', 'worthy', 'of', 'my', 'consideration', 'thus', 'strangely', 'are', 'our', 'souls', 'constructed', 'and', 'by', 'such', 'slight', 'ligaments', 'are', 'we', 'bound', 'to', 'prosperity', 'or', 'ruin', 'when', 'i', 'look', 'back', 'it', 'seems', 'to', 'me', 'as', 'if', 'this', 'almost', 'miraculous', 'change', 'of', 'inclination', 'and', 'will', 'was', 'the', 'immediate', 'suggestion', 'of', 'the', 'guardian', 'angel', 'of', 'my', 'life', 'the', 'last', 'effort', 'made', 'by', 'the', 'spirit', 'of', 'preservation', 'to', 'avert', 'the', 'storm', 'that', 'was', 'even', 'then', 'hanging', 'in', 'the', 'stars', 'and', 'ready', 'to', 'envelope', 'me', 'her', 'victory', 'was', 'announced', 'by', 'an', 'unusual', 'tranquillity', 'and', 'gladness', 'of', 'soul', 'which', 'followed', 'the', 'relinquishing', 'of', 'my', 'ancient', 'and', 'latterly', 'tormenting', 'studies', 'it', 'was', 'thus', 'that', 'i', 'was', 'to', 'be', 'taught', 'to', 'associate', 'evil', 'with', 'their', 'prosecution', 'happiness', 'with', 'their', 'disregard', 'it', 'was', 'a', 'strong', 'effort', 'of', 'the', 'spirit', 'of', 'good', 'but', 'it', 'was', 'ineffectual', 'destiny', 'was', 'too', 'potent', 'and', 'her', 'immutable', 'laws', 'had', 'decreed', 'my', 'utter', 'and', 'terrible', 'destruction']\n",
            "['brought', 'together', 'quite', 'year', 'difference', 'ages', 'need', 'say', 'strangers', 'species', 'disunion', 'dispute', 'harmony', 'soul', 'companionship', 'diversity', 'contrast', 'subsisted', 'characters', 'drew', 'us', 'nearer', 'together', 'elizabeth', 'calmer', 'concentrated', 'disposition', 'ardour', 'capable', 'intense', 'application', 'deeply', 'smitten', 'thirst', 'knowledge', 'busied', 'following', 'aerial', 'creations', 'poets', 'majestic', 'wondrous', 'scenes', 'surrounded', 'swiss', 'home', 'sublime', 'shapes', 'mountains', 'changes', 'seasons', 'tempest', 'calm', 'silence', 'winter', 'life', 'turbulence', 'alpine', 'summers', 'found', 'ample', 'scope', 'admiration', 'delight', 'companion', 'contemplated', 'serious', 'satisfied', 'spirit', 'magnificent', 'appearances', 'things', 'delighted', 'investigating', 'causes', 'world', 'secret', 'desired', 'divine', 'curiosity', 'earnest', 'research', 'learn', 'hidden', 'laws', 'nature', 'gladness', 'akin', 'rapture', 'unfolded', 'among', 'earliest', 'sensations', 'remember', 'birth', 'second', 'son', 'junior', 'seven', 'years', 'parents', 'gave', 'entirely', 'wandering', 'life', 'fixed', 'native', 'country', 'possessed', 'house', 'geneva', '_campagne_', 'belrive', 'eastern', 'shore', 'lake', 'distance', 'rather', 'league', 'city', 'resided', 'principally', 'latter', 'lives', 'parents', 'passed', 'considerable', 'seclusion', 'temper', 'avoid', 'crowd', 'attach', 'fervently', 'indifferent', 'therefore', 'schoolfellows', 'general', 'united', 'bonds', 'closest', 'friendship', 'one', 'among', 'henry', 'clerval', 'son', 'merchant', 'geneva', 'boy', 'singular', 'talent', 'fancy', 'loved', 'enterprise', 'hardship', 'even', 'danger', 'sake', 'deeply', 'read', 'books', 'chivalry', 'romance', 'composed', 'heroic', 'songs', 'began', 'write', 'many', 'tale', 'enchantment', 'knightly', 'adventure', 'tried', 'make', 'us', 'act', 'plays', 'enter', 'masquerades', 'characters', 'drawn', 'heroes', 'roncesvalles', 'round', 'table', 'king', 'arthur', 'chivalrous', 'train', 'shed', 'blood', 'redeem', 'holy', 'sepulchre', 'hands', 'infidels', 'human', 'could', 'passed', 'happier', 'childhood', 'parents', 'possessed', 'spirit', 'kindness', 'indulgence', 'felt', 'tyrants', 'rule', 'lot', 'according', 'caprice', 'agents', 'creators', 'many', 'delights', 'enjoyed', 'mingled', 'families', 'distinctly', 'discerned', 'peculiarly', 'fortunate', 'lot', 'gratitude', 'assisted', 'developement', 'filial', 'love', 'temper', 'sometimes', 'violent', 'passions', 'vehement', 'law', 'temperature', 'turned', 'towards', 'childish', 'pursuits', 'eager', 'desire', 'learn', 'learn', 'things', 'indiscriminately', 'confess', 'neither', 'structure', 'languages', 'code', 'governments', 'politics', 'various', 'states', 'possessed', 'attractions', 'secrets', 'heaven', 'earth', 'desired', 'learn', 'whether', 'outward', 'substance', 'things', 'inner', 'spirit', 'nature', 'mysterious', 'soul', 'man', 'occupied', 'still', 'enquiries', 'directed', 'metaphysical', 'highest', 'sense', 'physical', 'secrets', 'world', 'meanwhile', 'clerval', 'occupied', 'speak', 'moral', 'relations', 'things', 'busy', 'stage', 'life', 'virtues', 'heroes', 'actions', 'men', 'theme', 'hope', 'dream', 'become', 'one', 'among', 'whose', 'names', 'recorded', 'story', 'gallant', 'adventurous', 'benefactors', 'species', 'saintly', 'soul', 'elizabeth', 'shone', 'like', 'shrine', 'dedicated', 'lamp', 'peaceful', 'home', 'sympathy', 'smile', 'soft', 'voice', 'sweet', 'glance', 'celestial', 'eyes', 'ever', 'bless', 'animate', 'us', 'living', 'spirit', 'love', 'soften', 'attract', 'might', 'become', 'sullen', 'study', 'rough', 'ardour', 'nature', 'subdue', 'semblance', 'gentleness', 'clerval', 'could', 'aught', 'ill', 'entrench', 'noble', 'spirit', 'clerval', 'yet', 'might', 'perfectly', 'humane', 'thoughtful', 'generosity', 'full', 'kindness', 'tenderness', 'amidst', 'passion', 'adventurous', 'exploit', 'unfolded', 'real', 'loveliness', 'beneficence', 'made', 'good', 'end', 'aim', 'soaring', 'ambition', 'feel', 'exquisite', 'pleasure', 'dwelling', 'recollections', 'childhood', 'misfortune', 'tainted', 'mind', 'changed', 'bright', 'visions', 'extensive', 'usefulness', 'gloomy', 'narrow', 'reflections', 'upon', 'self', 'besides', 'drawing', 'picture', 'early', 'days', 'also', 'record', 'events', 'led', 'insensible', 'steps', 'tale', 'misery', 'would', 'account', 'birth', 'passion', 'afterwards', 'ruled', 'destiny', 'find', 'arise', 'like', 'mountain', 'river', 'ignoble', 'almost', 'forgotten', 'sources', 'swelling', 'proceeded', 'became', 'torrent', 'course', 'swept', 'away', 'hopes', 'joys', 'natural', 'philosophy', 'genius', 'regulated', 'fate', 'desire', 'therefore', 'narration', 'state', 'facts', 'led', 'predilection', 'science', 'thirteen', 'years', 'age', 'went', 'party', 'pleasure', 'baths', 'near', 'thonon', 'inclemency', 'weather', 'obliged', 'us', 'remain', 'day', 'confined', 'inn', 'house', 'chanced', 'find', 'volume', 'works', 'cornelius', 'agrippa', 'opened', 'apathy', 'theory', 'attempts', 'demonstrate', 'wonderful', 'facts', 'relates', 'soon', 'changed', 'feeling', 'enthusiasm', 'new', 'light', 'seemed', 'dawn', 'upon', 'mind', 'bounding', 'joy', 'communicated', 'discovery', 'father', 'father', 'looked', 'carelessly', 'titlepage', 'book', 'said', 'ah', 'cornelius', 'agrippa', 'dear', 'victor', 'waste', 'time', 'upon', 'sad', 'trash', 'instead', 'remark', 'father', 'taken', 'pains', 'explain', 'principles', 'agrippa', 'entirely', 'exploded', 'modern', 'system', 'science', 'introduced', 'possessed', 'much', 'greater', 'powers', 'ancient', 'powers', 'latter', 'chimerical', 'former', 'real', 'practical', 'circumstances', 'certainly', 'thrown', 'agrippa', 'aside', 'contented', 'imagination', 'warmed', 'returning', 'greater', 'ardour', 'former', 'studies', 'even', 'possible', 'train', 'ideas', 'would', 'never', 'received', 'fatal', 'impulse', 'led', 'ruin', 'cursory', 'glance', 'father', 'taken', 'volume', 'means', 'assured', 'acquainted', 'contents', 'continued', 'read', 'greatest', 'avidity', 'returned', 'home', 'first', 'care', 'procure', 'whole', 'works', 'author', 'afterwards', 'paracelsus', 'albertus', 'magnus', 'read', 'studied', 'wild', 'fancies', 'writers', 'delight', 'appeared', 'treasures', 'known', 'beside', 'described', 'always', 'embued', 'fervent', 'longing', 'penetrate', 'secrets', 'nature', 'spite', 'intense', 'labour', 'wonderful', 'discoveries', 'modern', 'philosophers', 'always', 'came', 'studies', 'discontented', 'unsatisfied', 'sir', 'isaac', 'newton', 'said', 'avowed', 'felt', 'like', 'child', 'picking', 'shells', 'beside', 'great', 'unexplored', 'ocean', 'truth', 'successors', 'branch', 'natural', 'philosophy', 'acquainted', 'appeared', 'even', 'boy', 'apprehensions', 'tyros', 'engaged', 'pursuit', 'untaught', 'peasant', 'beheld', 'elements', 'around', 'acquainted', 'practical', 'uses', 'learned', 'philosopher', 'knew', 'little', 'partially', 'unveiled', 'face', 'nature', 'immortal', 'lineaments', 'still', 'wonder', 'mystery', 'might', 'dissect', 'anatomise', 'give', 'names', 'speak', 'final', 'cause', 'causes', 'secondary', 'tertiary', 'grades', 'utterly', 'unknown', 'gazed', 'upon', 'fortifications', 'impediments', 'seemed', 'keep', 'human', 'beings', 'entering', 'citadel', 'nature', 'rashly', 'ignorantly', 'repined', 'books', 'men', 'penetrated', 'deeper', 'knew', 'took', 'word', 'averred', 'became', 'disciple', 'may', 'appear', 'strange', 'arise', 'eighteenth', 'century', 'followed', 'routine', 'education', 'schools', 'geneva', 'great', 'degree', 'self', 'taught', 'regard', 'favourite', 'studies', 'father', 'scientific', 'left', 'struggle', 'child', 'blindness', 'added', 'student', 'thirst', 'knowledge', 'guidance', 'new', 'preceptors', 'entered', 'greatest', 'diligence', 'search', 'philosopher', 'stone', 'elixir', 'life', 'latter', 'soon', 'obtained', 'undivided', 'attention', 'wealth', 'inferior', 'object', 'glory', 'would', 'attend', 'discovery', 'could', 'banish', 'disease', 'human', 'frame', 'render', 'man', 'invulnerable', 'violent', 'death', 'visions', 'raising', 'ghosts', 'devils', 'promise', 'liberally', 'accorded', 'favourite', 'authors', 'fulfilment', 'eagerly', 'sought', 'incantations', 'always', 'unsuccessful', 'attributed', 'failure', 'rather', 'inexperience', 'mistake', 'want', 'skill', 'fidelity', 'instructors', 'thus', 'time', 'occupied', 'exploded', 'systems', 'mingling', 'like', 'unadept', 'thousand', 'contradictory', 'theories', 'floundering', 'desperately', 'slough', 'multifarious', 'knowledge', 'guided', 'ardent', 'imagination', 'childish', 'reasoning', 'till', 'accident', 'changed', 'current', 'ideas', 'fifteen', 'years', 'old', 'retired', 'house', 'near', 'belrive', 'witnessed', 'violent', 'terrible', 'thunder', 'storm', 'advanced', 'behind', 'mountains', 'jura', 'thunder', 'burst', 'frightful', 'loudness', 'various', 'quarters', 'heavens', 'remained', 'storm', 'lasted', 'watching', 'progress', 'curiosity', 'delight', 'stood', 'door', 'sudden', 'beheld', 'stream', 'fire', 'issue', 'old', 'beautiful', 'oak', 'stood', 'twenty', 'yards', 'house', 'soon', 'dazzling', 'light', 'vanished', 'oak', 'disappeared', 'nothing', 'remained', 'blasted', 'stump', 'visited', 'next', 'morning', 'found', 'tree', 'shattered', 'singular', 'manner', 'splintered', 'shock', 'entirely', 'reduced', 'thin', 'ribands', 'wood', 'never', 'beheld', 'thing', 'utterly', 'destroyed', 'unacquainted', 'obvious', 'laws', 'electricity', 'occasion', 'man', 'great', 'research', 'natural', 'philosophy', 'us', 'excited', 'catastrophe', 'entered', 'explanation', 'theory', 'formed', 'subject', 'electricity', 'galvanism', 'new', 'astonishing', 'said', 'threw', 'greatly', 'shade', 'cornelius', 'agrippa', 'albertus', 'magnus', 'paracelsus', 'lords', 'imagination', 'fatality', 'overthrow', 'men', 'disinclined', 'pursue', 'accustomed', 'studies', 'seemed', 'nothing', 'would', 'could', 'ever', 'known', 'long', 'engaged', 'attention', 'suddenly', 'grew', 'despicable', 'one', 'caprices', 'mind', 'perhaps', 'subject', 'early', 'youth', 'gave', 'former', 'occupations', 'set', 'natural', 'history', 'progeny', 'deformed', 'abortive', 'creation', 'entertained', 'greatest', 'disdain', 'would', 'science', 'could', 'never', 'even', 'step', 'within', 'threshold', 'real', 'knowledge', 'mood', 'mind', 'betook', 'mathematics', 'branches', 'study', 'appertaining', 'science', 'built', 'upon', 'secure', 'foundations', 'worthy', 'consideration', 'thus', 'strangely', 'souls', 'constructed', 'slight', 'ligaments', 'bound', 'prosperity', 'ruin', 'look', 'back', 'seems', 'almost', 'miraculous', 'change', 'inclination', 'immediate', 'suggestion', 'guardian', 'angel', 'life', 'last', 'effort', 'made', 'spirit', 'preservation', 'avert', 'storm', 'even', 'hanging', 'stars', 'ready', 'envelope', 'victory', 'announced', 'unusual', 'tranquillity', 'gladness', 'soul', 'followed', 'relinquishing', 'ancient', 'latterly', 'tormenting', 'studies', 'thus', 'taught', 'associate', 'evil', 'prosecution', 'happiness', 'disregard', 'strong', 'effort', 'spirit', 'good', 'ineffectual', 'destiny', 'potent', 'immutable', 'laws', 'decreed', 'utter', 'terrible', 'destruction']\n"
          ],
          "name": "stdout"
        }
      ]
    },
    {
      "cell_type": "code",
      "metadata": {
        "id": "jDLIARQhBMoC",
        "colab_type": "code",
        "colab": {}
      },
      "source": [
        "#Chars to no.s\n",
        "\n",
        "chars = sorted(list(set(processed_inputs)))  \n",
        "char_to_num = dict((c,i) for i, c in enumerate(chars))"
      ],
      "execution_count": 6,
      "outputs": []
    },
    {
      "cell_type": "code",
      "metadata": {
        "id": "EPVjBHyZBoDY",
        "colab_type": "code",
        "colab": {
          "base_uri": "https://localhost:8080/",
          "height": 69
        },
        "outputId": "708e9257-b82a-44e0-a808-62ea47f0fda8"
      },
      "source": [
        "#Check if words to chars or chars to num (?!) has worked?\n",
        "\n",
        "input_len = len(processed_inputs)\n",
        "vocab_len = len(chars)\n",
        "print(\"Total number of characters:\", input_len)\n",
        "print(\"Total vocab:\", vocab_len)\n",
        "print(chars)"
      ],
      "execution_count": 7,
      "outputs": [
        {
          "output_type": "stream",
          "text": [
            "Total number of characters: 7036\n",
            "Total vocab: 27\n",
            "['_', 'a', 'b', 'c', 'd', 'e', 'f', 'g', 'h', 'i', 'j', 'k', 'l', 'm', 'n', 'o', 'p', 'q', 'r', 's', 't', 'u', 'v', 'w', 'x', 'y', 'z']\n"
          ],
          "name": "stdout"
        }
      ]
    },
    {
      "cell_type": "code",
      "metadata": {
        "id": "aAtNYgOKCfNB",
        "colab_type": "code",
        "colab": {}
      },
      "source": [
        "#Seq length\n",
        "\n",
        "seq_length = 100\n",
        "x_data = []\n",
        "y_data = []"
      ],
      "execution_count": 8,
      "outputs": []
    },
    {
      "cell_type": "code",
      "metadata": {
        "id": "_nPaZvBSC9uT",
        "colab_type": "code",
        "colab": {
          "base_uri": "https://localhost:8080/",
          "height": 35
        },
        "outputId": "c7507c84-52b1-4c29-ed3a-5795775c2874"
      },
      "source": [
        "#Loop through the sequence\n",
        "\n",
        "for i in range(0, input_len - seq_length, 1):\n",
        "  in_seq = processed_inputs[i:i + seq_length]\n",
        "  out_seq = processed_inputs[i + seq_length]\n",
        "  x_data.append([char_to_num[char] for char in in_seq])\n",
        "  y_data.append(char_to_num[out_seq])\n",
        "\n",
        "n_patterns = len(x_data)\n",
        "print(\"Total Patterns:\", n_patterns)"
      ],
      "execution_count": 9,
      "outputs": [
        {
          "output_type": "stream",
          "text": [
            "Total Patterns: 6936\n"
          ],
          "name": "stdout"
        }
      ]
    },
    {
      "cell_type": "code",
      "metadata": {
        "id": "m9xiE6x8EAzJ",
        "colab_type": "code",
        "colab": {}
      },
      "source": [
        "#Convert input sequence to np and array and so on\n",
        "\n",
        "X = numpy.reshape(x_data, (n_patterns, seq_length, 1))\n",
        "X = X/float (vocab_len)"
      ],
      "execution_count": 10,
      "outputs": []
    },
    {
      "cell_type": "code",
      "metadata": {
        "id": "SGKsXPf7FLCR",
        "colab_type": "code",
        "colab": {}
      },
      "source": [
        "#One-hot encoding\n",
        "\n",
        "y = np_utils.to_categorical(y_data)"
      ],
      "execution_count": 11,
      "outputs": []
    },
    {
      "cell_type": "code",
      "metadata": {
        "id": "U_u_8fXyuphs",
        "colab_type": "code",
        "colab": {}
      },
      "source": [
        "#Creating the model\n",
        "\n",
        "model = Sequential()\n",
        "model.add(LSTM(256, input_shape = (X.shape[1], X.shape[2]), return_sequences = True))\n",
        "model.add(Dropout(0.2))\n",
        "model.add(LSTM(256, return_sequences=True))\n",
        "model.add(Dropout(0.2))\n",
        "model.add(LSTM(128))\n",
        "model.add(Dropout(0.2))\n",
        "model.add(Dense(y.shape[1], activation='softmax'))"
      ],
      "execution_count": 12,
      "outputs": []
    },
    {
      "cell_type": "code",
      "metadata": {
        "id": "7GA1fI7UwCj1",
        "colab_type": "code",
        "colab": {}
      },
      "source": [
        "#Compile the model\n",
        "\n",
        "model.compile(loss='categorical_crossentropy', optimizer='adam')"
      ],
      "execution_count": 13,
      "outputs": []
    },
    {
      "cell_type": "code",
      "metadata": {
        "id": "_OzI1kL6wDBu",
        "colab_type": "code",
        "colab": {}
      },
      "source": [
        "#Saving weights\n",
        "\n",
        "filepath = \"model_weights_saved.hdf5\"\n",
        "checkpoint = ModelCheckpoint(filepath, monitor='loss', verbose = 1, save_best_only=True, mode='min')\n",
        "desired_callbacks = [checkpoint]"
      ],
      "execution_count": 14,
      "outputs": []
    },
    {
      "cell_type": "code",
      "metadata": {
        "id": "21m7vVgIwDIG",
        "colab_type": "code",
        "colab": {
          "base_uri": "https://localhost:8080/",
          "height": 312
        },
        "outputId": "8bc4340c-0dcb-4f02-caf5-d60ab1d653cf"
      },
      "source": [
        "#Fit model and let it train\n",
        "\n",
        "model.fit(X,y, epochs=4, batch_size=256, callbacks = desired_callbacks)"
      ],
      "execution_count": 15,
      "outputs": [
        {
          "output_type": "stream",
          "text": [
            "Epoch 1/4\n",
            "6936/6936 [==============================] - 118s 17ms/step - loss: 2.9880\n",
            "\n",
            "Epoch 00001: loss improved from inf to 2.98798, saving model to model_weights_saved.hdf5\n",
            "Epoch 2/4\n",
            "6936/6936 [==============================] - 117s 17ms/step - loss: 2.9183\n",
            "\n",
            "Epoch 00002: loss improved from 2.98798 to 2.91835, saving model to model_weights_saved.hdf5\n",
            "Epoch 3/4\n",
            "6936/6936 [==============================] - 117s 17ms/step - loss: 2.9006\n",
            "\n",
            "Epoch 00003: loss improved from 2.91835 to 2.90062, saving model to model_weights_saved.hdf5\n",
            "Epoch 4/4\n",
            "6936/6936 [==============================] - 117s 17ms/step - loss: 2.9037\n",
            "\n",
            "Epoch 00004: loss did not improve from 2.90062\n"
          ],
          "name": "stdout"
        },
        {
          "output_type": "execute_result",
          "data": {
            "text/plain": [
              "<keras.callbacks.callbacks.History at 0x7ffb2985ca90>"
            ]
          },
          "metadata": {
            "tags": []
          },
          "execution_count": 15
        }
      ]
    },
    {
      "cell_type": "code",
      "metadata": {
        "id": "oaK91IBa6n-3",
        "colab_type": "code",
        "colab": {}
      },
      "source": [
        "#Recompile model with the saved weights\n",
        "\n",
        "filename = \"model_weights_saved.hdf5\"\n",
        "model.load_weights(filename)\n",
        "model.compile(loss='categorical_crossentropy', optimizer= 'adam')"
      ],
      "execution_count": 16,
      "outputs": []
    },
    {
      "cell_type": "code",
      "metadata": {
        "id": "TivOaFYS6oqd",
        "colab_type": "code",
        "colab": {}
      },
      "source": [
        "#Output of the model back into characters\n",
        "\n",
        "num_to_char = dict((i,c) for i,c in enumerate(chars))"
      ],
      "execution_count": 17,
      "outputs": []
    },
    {
      "cell_type": "code",
      "metadata": {
        "id": "hz5jTvmr6ozi",
        "colab_type": "code",
        "colab": {
          "base_uri": "https://localhost:8080/",
          "height": 52
        },
        "outputId": "37bb62be-554c-4cfc-b28f-84ef77f4d3dc"
      },
      "source": [
        "#Random seed to help generate\n",
        "start = numpy.random.randint(0, len(x_data) - 1)\n",
        "pattern = x_data[start]\n",
        "print(\"Random seed:\")\n",
        "print(\"\\\"\", ''.join([num_to_char[value] for value in pattern]), \"\\\" \")"
      ],
      "execution_count": 18,
      "outputs": [
        {
          "output_type": "stream",
          "text": [
            "Random seed:\n",
            "\" yusexcitedcatastropheenteredexplanationtheoryformedsubjectelectricitygalvanismnewastonishingsaidthre \" \n"
          ],
          "name": "stdout"
        }
      ]
    },
    {
      "cell_type": "code",
      "metadata": {
        "id": "zSxLFNevwDO9",
        "colab_type": "code",
        "colab": {
          "base_uri": "https://localhost:8080/",
          "height": 55
        },
        "outputId": "4262d58e-83d9-463c-ca93-25542324a22b"
      },
      "source": [
        "#Generate the text\n",
        "\n",
        "for i in range(1000):\n",
        "  x = numpy.reshape(pattern, (1,len(pattern), 1))\n",
        "  x = x/float (vocab_len)\n",
        "  prediction = model.predict(x, verbose=0)\n",
        "  index = numpy.argmax(prediction)\n",
        "  result = num_to_char[index]\n",
        "  seq_in = [num_to_char[value] for value in pattern]\n",
        "  sys.stdout.write(result)\n",
        "  pattern.append(index)\n",
        "  pattern = pattern[1:len(pattern)]"
      ],
      "execution_count": 19,
      "outputs": [
        {
          "output_type": "stream",
          "text": [
            "eeeeeeeeeeeeeeeeeeeeeeeeeeeeeeeeeeeeeeeeeeeeeeeeeeeeeeeeeeeeeeeeeeeeeeeeeeeeeeeeeeeeeeeeeeeeeeeeeeeeeeeeeeeeeeeeeeeeeeeeeeeeeeeeeeeeeeeeeeeeeeeeeeeeeeeeeeeeeeeeeeeeeeeeeeeeeeeeeeeeeeeeeeeeeeeeeeeeeeeeeeeeeeeeeeeeeeeeeeeeeeeeeeeeeeeeeeeeeeeeeeeeeeeeeeeeeeeeeeeeeeeeeeeeeeeeeeeeeeeeeeeeeeeeeeeeeeeeeeeeeeeeeeeeeeeeeeeeeeeeeeeeeeeeeeeeeeeeeeeeeeeeeeeeeeeeeeeeeeeeeeeeeeeeeeeeeeeeeeeeeeeeeeeeeeeeeeeeeeeeeeeeeeeeeeeeeeeeeeeeeeeeeeeeeeeeeeeeeeeeeeeeeeeeeeeeeeeeeeeeeeeeeeeeeeeeeeeeeeeeeeeeeeeeeeeeeeeeeeeeeeeeeeeeeeeeeeeeeeeeeeeeeeeeeeeeeeeeeeeeeeeeeeeeeeeeeeeeeeeeeeeeeeeeeeeeeeeeeeeeeeeeeeeeeeeeeeeeeeeeeeeeeeeeeeeeeeeeeeeeeeeeeeeeeeeeeeeeeeeeeeeeeeeeeeeeeeeeeeeeeeeeeeeeeeeeeeeeeeeeeeeeeeeeeeeeeeeeeeeeeeeeeeeeeeeeeeeeeeeeeeeeeeeeeeeeeeeeeeeeeeeeeeeeeeeeeeeeeeeeeeeeeeeeeeeeeeeeeeeeeeeeeeeeeeeeeeeeeeeeeeeeeeeeeeeeeeeeeeeeeeeeeeeeeeeeeeeeeeeeeeeeeeeeeeeeeeeeeeeeeeeeeeeeeeeeeeeeeeeeeeeeeeeeeeeeeeeeeeeeeeeeeeeeeeeeeeeeeeeeeeeeeeeeeeeeeeeeeeeeeeeeeeeeeeeeeeeeeeeeeeeeeeeeeeeeeeeeeeeeeeeeeeeeeeeeeeeeeeee"
          ],
          "name": "stdout"
        }
      ]
    }
  ]
}