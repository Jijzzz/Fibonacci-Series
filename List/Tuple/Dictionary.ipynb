{
  "nbformat": 4,
  "nbformat_minor": 0,
  "metadata": {
    "colab": {
      "name": "Untitled4.ipynb",
      "provenance": [],
      "authorship_tag": "ABX9TyNtoIZP6Y5wd+BValW+lCmU",
      "include_colab_link": true
    },
    "kernelspec": {
      "name": "python3",
      "display_name": "Python 3"
    }
  },
  "cells": [
    {
      "cell_type": "markdown",
      "metadata": {
        "id": "view-in-github",
        "colab_type": "text"
      },
      "source": [
        "<a href=\"https://colab.research.google.com/github/Jijzzz/Mycaptain/blob/master/List/Tuple/Dictionary.ipynb\" target=\"_parent\"><img src=\"https://colab.research.google.com/assets/colab-badge.svg\" alt=\"Open In Colab\"/></a>"
      ]
    },
    {
      "cell_type": "code",
      "metadata": {
        "id": "rfQN2raU_JAt",
        "colab_type": "code",
        "colab": {}
      },
      "source": [
        "#Assigning elements to different lists\n",
        "a=[2,4,7,10,'Hai']\n",
        "b=a\n",
        "print(b)"
      ],
      "execution_count": null,
      "outputs": []
    },
    {
      "cell_type": "code",
      "metadata": {
        "id": "Y5QSFk5fHN2L",
        "colab_type": "code",
        "colab": {}
      },
      "source": [
        "#Accessing elements from a tuple\n",
        "a=[2,4,7,10,'Hai']\n",
        "print(a[4])\n"
      ],
      "execution_count": null,
      "outputs": []
    },
    {
      "cell_type": "code",
      "metadata": {
        "id": "-4RqHtPRIv0i",
        "colab_type": "code",
        "colab": {
          "base_uri": "https://localhost:8080/",
          "height": 35
        },
        "outputId": "31acf025-4386-424d-9b8f-217b659df623"
      },
      "source": [
        "#Deleting different dictionary elements\n",
        "Mydic ={\n",
        "    \"tea\" : \"good\",\n",
        "    \"coffee\" : \"notgood\",\n",
        "    \"milk\" : \"better\"\n",
        "}\n",
        "\n",
        "del Mydic[\"milk\"]\n",
        "print(Mydic)"
      ],
      "execution_count": 14,
      "outputs": [
        {
          "output_type": "stream",
          "text": [
            "{'tea': 'good', 'coffee': 'notgood'}\n"
          ],
          "name": "stdout"
        }
      ]
    }
  ]
}