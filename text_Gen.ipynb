{
  "nbformat": 4,
  "nbformat_minor": 0,
  "metadata": {
    "colab": {
      "name": "text Gen.ipynb",
      "provenance": [],
      "authorship_tag": "ABX9TyOlq/i+hUVLj8+YjjVOazUT",
      "include_colab_link": true
    },
    "kernelspec": {
      "name": "python3",
      "display_name": "Python 3"
    }
  },
  "cells": [
    {
      "cell_type": "markdown",
      "metadata": {
        "id": "view-in-github",
        "colab_type": "text"
      },
      "source": [
        "<a href=\"https://colab.research.google.com/github/Jijzzz/Mycaptain/blob/master/text_Gen.ipynb\" target=\"_parent\"><img src=\"https://colab.research.google.com/assets/colab-badge.svg\" alt=\"Open In Colab\"/></a>"
      ]
    },
    {
      "cell_type": "code",
      "metadata": {
        "id": "Ipx09DUxRqgN",
        "colab_type": "code",
        "colab": {
          "base_uri": "https://localhost:8080/",
          "height": 52
        },
        "outputId": "703f44d0-b4ce-4ae0-f34f-c3c0f11eb704"
      },
      "source": [
        "#Import Dependencies\n",
        "\n",
        "import numpy\n",
        "import sys\n",
        "import nltk\n",
        "nltk.download('stopwords')\n",
        "from nltk.tokenize import RegexpTokenizer\n",
        "from nltk.corpus import stopwords\n",
        "from keras.models import Sequential\n",
        "from keras.layers import Dense, Dropout, LSTM\n",
        "from keras.utils import np_utils\n",
        "from keras.callbacks import ModelCheckpoint"
      ],
      "execution_count": null,
      "outputs": [
        {
          "output_type": "stream",
          "text": [
            "[nltk_data] Downloading package stopwords to /root/nltk_data...\n",
            "[nltk_data]   Package stopwords is already up-to-date!\n"
          ],
          "name": "stdout"
        }
      ]
    },
    {
      "cell_type": "code",
      "metadata": {
        "id": "1RDTTQxSa2dK",
        "colab_type": "code",
        "colab": {
          "base_uri": "https://localhost:8080/",
          "height": 35
        },
        "outputId": "4084f031-4371-4761-c032-1d92f08d677f"
      },
      "source": [
        "#Import gdrive \n",
        "\n",
        "from google.colab import drive\n",
        "drive.mount('/content/mydrive')"
      ],
      "execution_count": null,
      "outputs": [
        {
          "output_type": "stream",
          "text": [
            "Drive already mounted at /content/mydrive; to attempt to forcibly remount, call drive.mount(\"/content/mydrive\", force_remount=True).\n"
          ],
          "name": "stdout"
        }
      ]
    },
    {
      "cell_type": "code",
      "metadata": {
        "id": "8-Zc2l646fdi",
        "colab_type": "code",
        "colab": {}
      },
      "source": [
        "#Load data\n",
        "\n",
        "file = open(\"/content/mydrive/My Drive/Frankenstein-2.txt\").read()\n",
        "print(file)"
      ],
      "execution_count": null,
      "outputs": []
    },
    {
      "cell_type": "code",
      "metadata": {
        "id": "4GQr_ulV-SKA",
        "colab_type": "code",
        "colab": {}
      },
      "source": [
        "#Tokenization\n",
        "#Standardization\n",
        "\n",
        "def tokenize_words(input):\n",
        "  global file\n",
        "  input = input.lower()\n",
        "  tokenizer = RegexpTokenizer(r'\\w+')\n",
        "  tokens = tokenizer.tokenize(input)\n",
        "  print(tokens)\n",
        "  filtered = list(filter(lambda token: token not in stopwords.words('english'), tokens))\n",
        "  print(filtered)\n",
        "  return \"\".join(filtered)\n",
        "\n",
        "  \n",
        "processed_inputs = tokenize_words(file)"
      ],
      "execution_count": null,
      "outputs": []
    },
    {
      "cell_type": "code",
      "metadata": {
        "id": "jDLIARQhBMoC",
        "colab_type": "code",
        "colab": {}
      },
      "source": [
        "#Chars to no.s\n",
        "\n",
        "chars = sorted(list(set(processed_inputs)))  \n",
        "char_to_num = dict((c,i) for i, c in enumerate(chars))"
      ],
      "execution_count": null,
      "outputs": []
    },
    {
      "cell_type": "code",
      "metadata": {
        "id": "EPVjBHyZBoDY",
        "colab_type": "code",
        "colab": {
          "base_uri": "https://localhost:8080/",
          "height": 52
        },
        "outputId": "b8f35803-9464-42a3-f6e7-30be99762b16"
      },
      "source": [
        "#Check if words to chars or chars to num (?!) has worked?\n",
        "\n",
        "input_len = len(processed_inputs)\n",
        "vocab_len = len(chars)\n",
        "print(\"Total number of characters:\", input_len)\n",
        "print(\"Total vocab:\", vocab_len)"
      ],
      "execution_count": null,
      "outputs": [
        {
          "output_type": "stream",
          "text": [
            "Total number of characters: 7036\n",
            "Total vocab: 27\n"
          ],
          "name": "stdout"
        }
      ]
    },
    {
      "cell_type": "code",
      "metadata": {
        "id": "aAtNYgOKCfNB",
        "colab_type": "code",
        "colab": {}
      },
      "source": [
        "#Seq length\n",
        "\n",
        "seq_length = 100\n",
        "x_data = []\n",
        "y_data = []"
      ],
      "execution_count": null,
      "outputs": []
    },
    {
      "cell_type": "code",
      "metadata": {
        "id": "_nPaZvBSC9uT",
        "colab_type": "code",
        "colab": {}
      },
      "source": [
        "#Loop through the sequence\n",
        "\n",
        "for i in range(0, input_len - seq_length, 1):\n",
        "  in_seq = processed_inputs[i:i + seq_length]\n",
        "  out_seq = processed_inputs(i + seq_length)\n",
        "  x_data.append([char_to_num[char] for char in in_seq])\n",
        "  y_data.append(char_to_num(out_seq))\n",
        "\n",
        "n_patterns = len(x_data)\n",
        "print(\"Total Patterns:\", n_patterns)"
      ],
      "execution_count": null,
      "outputs": []
    },
    {
      "cell_type": "code",
      "metadata": {
        "id": "m9xiE6x8EAzJ",
        "colab_type": "code",
        "colab": {}
      },
      "source": [
        "#Convert input sequence to np and array and so on\n",
        "\n",
        "X = numpy.reshape(x_data, (n_patterns, seq_length, 1))\n",
        "X = X/float (vocab_len)"
      ],
      "execution_count": null,
      "outputs": []
    },
    {
      "cell_type": "code",
      "metadata": {
        "id": "SGKsXPf7FLCR",
        "colab_type": "code",
        "colab": {}
      },
      "source": [
        "#One-hot encoding\n",
        "\n",
        "y = np_utils.to_categorical(y_data)"
      ],
      "execution_count": null,
      "outputs": []
    },
    {
      "cell_type": "code",
      "metadata": {
        "id": "U_u_8fXyuphs",
        "colab_type": "code",
        "colab": {}
      },
      "source": [
        "#Creating the model\n",
        "\n",
        "model = sequential()\n",
        "mod3l.add(LSTM(256, input_shape = (X.shape[1], X.shape[2]), return_sequences = True)\n",
        "model.add(Dropout(0.2))\n",
        "model.add(LSTM(256, return_sequences=True))\n",
        "model.add(Dropout(0.2))\n",
        "model.add(LSTM(128))\n",
        "model.add(Dropout(0.2))\n",
        "model.add(Dense(y.shape[1], activation='softmax'))"
      ],
      "execution_count": null,
      "outputs": []
    },
    {
      "cell_type": "code",
      "metadata": {
        "id": "7GA1fI7UwCj1",
        "colab_type": "code",
        "colab": {}
      },
      "source": [
        "#Compile the model\n",
        "\n",
        "model.compile(loss='categorical_crossentropy', optimizer='adam')"
      ],
      "execution_count": null,
      "outputs": []
    },
    {
      "cell_type": "code",
      "metadata": {
        "id": "_OzI1kL6wDBu",
        "colab_type": "code",
        "colab": {}
      },
      "source": [
        ""
      ],
      "execution_count": null,
      "outputs": []
    },
    {
      "cell_type": "code",
      "metadata": {
        "id": "21m7vVgIwDIG",
        "colab_type": "code",
        "colab": {}
      },
      "source": [
        ""
      ],
      "execution_count": null,
      "outputs": []
    },
    {
      "cell_type": "code",
      "metadata": {
        "id": "zSxLFNevwDO9",
        "colab_type": "code",
        "colab": {}
      },
      "source": [
        ""
      ],
      "execution_count": null,
      "outputs": []
    }
  ]
}