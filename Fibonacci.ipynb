{
  "nbformat": 4,
  "nbformat_minor": 0,
  "metadata": {
    "colab": {
      "name": "Untitled3.ipynb",
      "provenance": [],
      "authorship_tag": "ABX9TyNmy34EmtIRysgG9EBqTgIq",
      "include_colab_link": true
    },
    "kernelspec": {
      "name": "python3",
      "display_name": "Python 3"
    }
  },
  "cells": [
    {
      "cell_type": "markdown",
      "metadata": {
        "id": "view-in-github",
        "colab_type": "text"
      },
      "source": [
        "<a href=\"https://colab.research.google.com/github/Jijzzz/Fibonacci-Series.py/blob/master/Fibonacci.ipynb\" target=\"_parent\"><img src=\"https://colab.research.google.com/assets/colab-badge.svg\" alt=\"Open In Colab\"/></a>"
      ]
    },
    {
      "cell_type": "code",
      "metadata": {
        "id": "3KaqznsJRh1b",
        "colab_type": "code",
        "colab": {}
      },
      "source": [
        "n=int(input(\"enter the limit\"))\n",
        "a=0\n",
        "b=1\n",
        "if n>0:\n",
        "  print(a)\n",
        "else:\n",
        "  print(\"not in range\")\n",
        "\n",
        "for i in range(n):\n",
        "  print(a)\n",
        "  c=a\n",
        "  a=b\n",
        "  b=c+b"
      ],
      "execution_count": null,
      "outputs": []
    }
  ]
}